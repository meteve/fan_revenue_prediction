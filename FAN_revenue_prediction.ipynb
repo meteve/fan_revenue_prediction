{
 "cells": [
  {
   "cell_type": "markdown",
   "metadata": {},
   "source": [
    "# 1.Frame the problem\n",
    "\n",
    "The objective of this challenge is to work with 'dirty data'. Most real data is dirty and the availability of high-quality, open-source ML and data analysis frameworks (such as [scikit-learn](https://scikit-learn.org/),\n",
    "[pandas](https://pandas.pydata.org/)...) means that the next frontier for tooling and automation lies in preprocessing. This challenge aims to investigate methodologies to perform statistical analysis directly on the original dirty data.\n",
    "\n",
    "There are two datasets in this challenge:\n",
    "\n",
    "* `company_revenue_TRAIN.csv` - company revenue declarations.\n",
    "* `award_notices_RAMP.csv` -  French Attribution Notices.\n",
    "\n",
    "### Aim\n",
    "\n",
    "The predictive aim of this challenge is to use `company_revenue_TRAIN.csv` and `award_notices_RAMP.csv` to predict the Revenue for each entry in the 'company financial data' dataset. It is advised that you use both datasets, as it improves the prediction (see [Score comparison](#Score-comparison)), but using only the `company_revenue_TRAIN.csv` dataset is also allowed."
   ]
  },
  {
   "cell_type": "markdown",
   "metadata": {},
   "source": [
    "### Data\n",
    "\n",
    "### Company financial data\n",
    "\n",
    "This dataset was built from an extract of the [National Institute of Statistics and Economic Studies (INSEE)](https://www.insee.fr/en/accueil) reference database of company revenue declarations from 2013 to 2018. Each row represents the declaration of one company for one year and the following information is provided in the columns:\n",
    "\n",
    "* `Legal_ID` - the reconcilled legal ID of the company\n",
    "* `Name` - the name of the company\n",
    "* `Activity_code (APE)` - 'Activite Principale de l'Entreprise', the main activity of the company - more information in [English](https://www.startbusinessinfrance.com/code-ape) or in [French](https://www.service-public.fr/professionnels-entreprises/vosdroits/F33050)\n",
    "* `Address` \n",
    "* `Zipcode`\n",
    "* `City`\n",
    "* `Revenue` - in Euros\n",
    "* `Headcount`\n",
    "* `Fiscal_year_end_date`\n",
    "* `Fiscal_year_duration_in_months`\n",
    "* `Year`\n",
    "\n",
    "There are a few things to note:\n",
    "\n",
    "* there are revenue declarations for the same company but different years\n",
    "* there is a large reduction in entries for the years 2017 and 2018 due to the Loi Macron law in 2017\n",
    "* the 'same company' can have several different entities, resulting in entries where the `Legal_ID` is different but the `Name`, `Address`, `City` and `Zipcode` are all the same.\n",
    "* `Revenue` can be negative. A negative revenue may be due to cancelled orders from the previous fiscal year that was recorded in the current fiscal year."
   ]
  },
  {
   "cell_type": "code",
   "execution_count": 149,
   "metadata": {},
   "outputs": [],
   "source": [
    "%matplotlib inline\n",
    "import numpy as np\n",
    "import pandas as pd\n",
    "import matplotlib.pyplot as plt\n",
    "\n",
    "from sklearn.linear_model import LinearRegression\n",
    "from sklearn.ensemble import RandomForestRegressor\n",
    "from sklearn.metrics import mean_squared_error\n",
    "from sklearn.model_selection import cross_val_score\n",
    "from sklearn.pipeline import Pipeline\n",
    "from sklearn.metrics import make_scorer\n"
   ]
  },
  {
   "cell_type": "markdown",
   "metadata": {},
   "source": [
    "# 2. Get the data"
   ]
  },
  {
   "cell_type": "code",
   "execution_count": 9,
   "metadata": {},
   "outputs": [
    {
     "name": "stderr",
     "output_type": "stream",
     "text": [
      "C:\\ProgramData\\Anaconda3\\lib\\site-packages\\IPython\\core\\interactiveshell.py:3058: DtypeWarning: Columns (4) have mixed types. Specify dtype option on import or set low_memory=False.\n",
      "  interactivity=interactivity, compiler=compiler, result=result)\n"
     ]
    }
   ],
   "source": [
    "revenue_train = pd.read_csv('data/company_revenue_public_TRAIN.csv')\n",
    "revenue_test = pd.read_csv('data/company_revenue_public_TEST.csv')"
   ]
  },
  {
   "cell_type": "markdown",
   "metadata": {},
   "source": [
    "# 3. Data exploration"
   ]
  },
  {
   "cell_type": "code",
   "execution_count": 10,
   "metadata": {},
   "outputs": [
    {
     "data": {
      "text/plain": [
       "(1495948, 11)"
      ]
     },
     "execution_count": 10,
     "metadata": {},
     "output_type": "execute_result"
    }
   ],
   "source": [
    "revenue_train.shape"
   ]
  },
  {
   "cell_type": "code",
   "execution_count": 37,
   "metadata": {},
   "outputs": [
    {
     "data": {
      "text/plain": [
       "Index(['legal_id', 'name', 'ape', 'address', 'zipcode', 'city', 'revenue',\n",
       "       'headcount', 'fiscal_year_end_date', 'fiscal_year_duration_in_months',\n",
       "       'year'],\n",
       "      dtype='object')"
      ]
     },
     "execution_count": 37,
     "metadata": {},
     "output_type": "execute_result"
    }
   ],
   "source": [
    "revenue_train.columns"
   ]
  },
  {
   "cell_type": "code",
   "execution_count": 32,
   "metadata": {},
   "outputs": [],
   "source": [
    "# rename columns\n",
    "colnames = list(revenue_train.columns)\n",
    "colnames = [x.lower() for x in colnames]\n",
    "colnames = [x.replace(' ', '_') for x in colnames]\n",
    "colnames[2] = 'ape'"
   ]
  },
  {
   "cell_type": "code",
   "execution_count": 35,
   "metadata": {},
   "outputs": [],
   "source": [
    "revenue_train.columns = colnames"
   ]
  },
  {
   "cell_type": "code",
   "execution_count": 12,
   "metadata": {},
   "outputs": [
    {
     "data": {
      "text/plain": [
       "Legal_ID                            int64\n",
       "Name                               object\n",
       "Activity_code (APE)                object\n",
       "Address                            object\n",
       "Zipcode                           float64\n",
       "City                               object\n",
       "Revenue                           float64\n",
       "Headcount                         float64\n",
       "Fiscal_year_end_date               object\n",
       "Fiscal_year_duration_in_months    float64\n",
       "Year                              float64\n",
       "dtype: object"
      ]
     },
     "execution_count": 12,
     "metadata": {},
     "output_type": "execute_result"
    }
   ],
   "source": [
    "revenue_train.dtypes"
   ]
  },
  {
   "cell_type": "code",
   "execution_count": 13,
   "metadata": {},
   "outputs": [
    {
     "data": {
      "text/html": [
       "<div>\n",
       "<style scoped>\n",
       "    .dataframe tbody tr th:only-of-type {\n",
       "        vertical-align: middle;\n",
       "    }\n",
       "\n",
       "    .dataframe tbody tr th {\n",
       "        vertical-align: top;\n",
       "    }\n",
       "\n",
       "    .dataframe thead th {\n",
       "        text-align: right;\n",
       "    }\n",
       "</style>\n",
       "<table border=\"1\" class=\"dataframe\">\n",
       "  <thead>\n",
       "    <tr style=\"text-align: right;\">\n",
       "      <th></th>\n",
       "      <th>Legal_ID</th>\n",
       "      <th>Name</th>\n",
       "      <th>Activity_code (APE)</th>\n",
       "      <th>Address</th>\n",
       "      <th>Zipcode</th>\n",
       "      <th>City</th>\n",
       "      <th>Revenue</th>\n",
       "      <th>Headcount</th>\n",
       "      <th>Fiscal_year_end_date</th>\n",
       "      <th>Fiscal_year_duration_in_months</th>\n",
       "      <th>Year</th>\n",
       "    </tr>\n",
       "  </thead>\n",
       "  <tbody>\n",
       "    <tr>\n",
       "      <td>0</td>\n",
       "      <td>582296</td>\n",
       "      <td>COMICOB</td>\n",
       "      <td>NaN</td>\n",
       "      <td>BOULOUPARIS BP 15 BOULOUPARIS</td>\n",
       "      <td>NaN</td>\n",
       "      <td>NaN</td>\n",
       "      <td>104334380.0</td>\n",
       "      <td>NaN</td>\n",
       "      <td>2016-12-31</td>\n",
       "      <td>12.0</td>\n",
       "      <td>2016.0</td>\n",
       "    </tr>\n",
       "    <tr>\n",
       "      <td>1</td>\n",
       "      <td>582981</td>\n",
       "      <td>CIANFARANI JEAN-MICHEL</td>\n",
       "      <td>NaN</td>\n",
       "      <td>33 AVENUE H. LAFLEUR - VICTOIRE - B.P. 4031 NO...</td>\n",
       "      <td>NaN</td>\n",
       "      <td>NaN</td>\n",
       "      <td>28535069.0</td>\n",
       "      <td>NaN</td>\n",
       "      <td>2016-12-31</td>\n",
       "      <td>12.0</td>\n",
       "      <td>2016.0</td>\n",
       "    </tr>\n",
       "    <tr>\n",
       "      <td>2</td>\n",
       "      <td>588541</td>\n",
       "      <td>OK POULET 5EME SARL</td>\n",
       "      <td>NaN</td>\n",
       "      <td>23 RUE PAUL BERT</td>\n",
       "      <td>98800.0</td>\n",
       "      <td>NOUMEA</td>\n",
       "      <td>10481715.0</td>\n",
       "      <td>1.0</td>\n",
       "      <td>2016-12-31</td>\n",
       "      <td>12.0</td>\n",
       "      <td>2016.0</td>\n",
       "    </tr>\n",
       "    <tr>\n",
       "      <td>3</td>\n",
       "      <td>589275</td>\n",
       "      <td>INSTITUT DE LA QUALITE S.A.R.L.</td>\n",
       "      <td>NaN</td>\n",
       "      <td>224 RUE J. IEKAWE - COMPLEXE DE LA BELLE-VIE -...</td>\n",
       "      <td>98800.0</td>\n",
       "      <td>NOUMEA</td>\n",
       "      <td>66097924.0</td>\n",
       "      <td>NaN</td>\n",
       "      <td>2016-12-31</td>\n",
       "      <td>12.0</td>\n",
       "      <td>2016.0</td>\n",
       "    </tr>\n",
       "    <tr>\n",
       "      <td>4</td>\n",
       "      <td>592972</td>\n",
       "      <td>EXPERT TRADE</td>\n",
       "      <td>NaN</td>\n",
       "      <td>2 RUE DE L ASTROLABE OUEMO MAGENTA</td>\n",
       "      <td>98800.0</td>\n",
       "      <td>NOUMEA</td>\n",
       "      <td>15271453.0</td>\n",
       "      <td>NaN</td>\n",
       "      <td>2016-12-31</td>\n",
       "      <td>12.0</td>\n",
       "      <td>2016.0</td>\n",
       "    </tr>\n",
       "  </tbody>\n",
       "</table>\n",
       "</div>"
      ],
      "text/plain": [
       "   Legal_ID                             Name Activity_code (APE)  \\\n",
       "0    582296                          COMICOB                 NaN   \n",
       "1    582981           CIANFARANI JEAN-MICHEL                 NaN   \n",
       "2    588541              OK POULET 5EME SARL                 NaN   \n",
       "3    589275  INSTITUT DE LA QUALITE S.A.R.L.                 NaN   \n",
       "4    592972                     EXPERT TRADE                 NaN   \n",
       "\n",
       "                                             Address  Zipcode    City  \\\n",
       "0                      BOULOUPARIS BP 15 BOULOUPARIS      NaN     NaN   \n",
       "1  33 AVENUE H. LAFLEUR - VICTOIRE - B.P. 4031 NO...      NaN     NaN   \n",
       "2                                   23 RUE PAUL BERT  98800.0  NOUMEA   \n",
       "3  224 RUE J. IEKAWE - COMPLEXE DE LA BELLE-VIE -...  98800.0  NOUMEA   \n",
       "4                 2 RUE DE L ASTROLABE OUEMO MAGENTA  98800.0  NOUMEA   \n",
       "\n",
       "       Revenue  Headcount Fiscal_year_end_date  \\\n",
       "0  104334380.0        NaN           2016-12-31   \n",
       "1   28535069.0        NaN           2016-12-31   \n",
       "2   10481715.0        1.0           2016-12-31   \n",
       "3   66097924.0        NaN           2016-12-31   \n",
       "4   15271453.0        NaN           2016-12-31   \n",
       "\n",
       "   Fiscal_year_duration_in_months    Year  \n",
       "0                            12.0  2016.0  \n",
       "1                            12.0  2016.0  \n",
       "2                            12.0  2016.0  \n",
       "3                            12.0  2016.0  \n",
       "4                            12.0  2016.0  "
      ]
     },
     "execution_count": 13,
     "metadata": {},
     "output_type": "execute_result"
    }
   ],
   "source": [
    "revenue_train.head()"
   ]
  },
  {
   "cell_type": "code",
   "execution_count": 38,
   "metadata": {},
   "outputs": [
    {
     "data": {
      "text/plain": [
       "legal_id                               0\n",
       "name                                   3\n",
       "ape                                18390\n",
       "address                           262234\n",
       "zipcode                           251235\n",
       "city                                 468\n",
       "revenue                                0\n",
       "headcount                         953576\n",
       "fiscal_year_end_date                   0\n",
       "fiscal_year_duration_in_months         0\n",
       "year                                   0\n",
       "dtype: int64"
      ]
     },
     "execution_count": 38,
     "metadata": {},
     "output_type": "execute_result"
    }
   ],
   "source": [
    "revenue_train.isna().sum()"
   ]
  },
  {
   "cell_type": "code",
   "execution_count": 39,
   "metadata": {},
   "outputs": [
    {
     "data": {
      "text/html": [
       "<div>\n",
       "<style scoped>\n",
       "    .dataframe tbody tr th:only-of-type {\n",
       "        vertical-align: middle;\n",
       "    }\n",
       "\n",
       "    .dataframe tbody tr th {\n",
       "        vertical-align: top;\n",
       "    }\n",
       "\n",
       "    .dataframe thead th {\n",
       "        text-align: right;\n",
       "    }\n",
       "</style>\n",
       "<table border=\"1\" class=\"dataframe\">\n",
       "  <thead>\n",
       "    <tr style=\"text-align: right;\">\n",
       "      <th></th>\n",
       "      <th>legal_id</th>\n",
       "      <th>zipcode</th>\n",
       "      <th>revenue</th>\n",
       "      <th>headcount</th>\n",
       "      <th>fiscal_year_duration_in_months</th>\n",
       "      <th>year</th>\n",
       "    </tr>\n",
       "  </thead>\n",
       "  <tbody>\n",
       "    <tr>\n",
       "      <td>count</td>\n",
       "      <td>1.495948e+06</td>\n",
       "      <td>1.244713e+06</td>\n",
       "      <td>1.495948e+06</td>\n",
       "      <td>5.423720e+05</td>\n",
       "      <td>1495948.0</td>\n",
       "      <td>1.495948e+06</td>\n",
       "    </tr>\n",
       "    <tr>\n",
       "      <td>mean</td>\n",
       "      <td>5.060829e+08</td>\n",
       "      <td>5.464419e+04</td>\n",
       "      <td>4.488752e+06</td>\n",
       "      <td>8.736985e+01</td>\n",
       "      <td>12.0</td>\n",
       "      <td>2.014475e+03</td>\n",
       "    </tr>\n",
       "    <tr>\n",
       "      <td>std</td>\n",
       "      <td>1.417373e+08</td>\n",
       "      <td>2.755171e+04</td>\n",
       "      <td>2.714711e+08</td>\n",
       "      <td>9.002249e+03</td>\n",
       "      <td>0.0</td>\n",
       "      <td>1.246598e+00</td>\n",
       "    </tr>\n",
       "    <tr>\n",
       "      <td>min</td>\n",
       "      <td>5.822960e+05</td>\n",
       "      <td>6.000000e+00</td>\n",
       "      <td>-2.207296e+07</td>\n",
       "      <td>-3.900000e+01</td>\n",
       "      <td>12.0</td>\n",
       "      <td>2.013000e+03</td>\n",
       "    </tr>\n",
       "    <tr>\n",
       "      <td>25%</td>\n",
       "      <td>4.149439e+08</td>\n",
       "      <td>3.185000e+04</td>\n",
       "      <td>9.456375e+04</td>\n",
       "      <td>1.000000e+00</td>\n",
       "      <td>12.0</td>\n",
       "      <td>2.013000e+03</td>\n",
       "    </tr>\n",
       "    <tr>\n",
       "      <td>50%</td>\n",
       "      <td>4.895445e+08</td>\n",
       "      <td>6.053000e+04</td>\n",
       "      <td>2.877205e+05</td>\n",
       "      <td>3.000000e+00</td>\n",
       "      <td>12.0</td>\n",
       "      <td>2.014000e+03</td>\n",
       "    </tr>\n",
       "    <tr>\n",
       "      <td>75%</td>\n",
       "      <td>5.293306e+08</td>\n",
       "      <td>7.511600e+04</td>\n",
       "      <td>1.005522e+06</td>\n",
       "      <td>9.000000e+00</td>\n",
       "      <td>12.0</td>\n",
       "      <td>2.015000e+03</td>\n",
       "    </tr>\n",
       "    <tr>\n",
       "      <td>max</td>\n",
       "      <td>9.999905e+08</td>\n",
       "      <td>9.889500e+04</td>\n",
       "      <td>2.427252e+11</td>\n",
       "      <td>5.450000e+06</td>\n",
       "      <td>12.0</td>\n",
       "      <td>2.018000e+03</td>\n",
       "    </tr>\n",
       "  </tbody>\n",
       "</table>\n",
       "</div>"
      ],
      "text/plain": [
       "           legal_id       zipcode       revenue     headcount  \\\n",
       "count  1.495948e+06  1.244713e+06  1.495948e+06  5.423720e+05   \n",
       "mean   5.060829e+08  5.464419e+04  4.488752e+06  8.736985e+01   \n",
       "std    1.417373e+08  2.755171e+04  2.714711e+08  9.002249e+03   \n",
       "min    5.822960e+05  6.000000e+00 -2.207296e+07 -3.900000e+01   \n",
       "25%    4.149439e+08  3.185000e+04  9.456375e+04  1.000000e+00   \n",
       "50%    4.895445e+08  6.053000e+04  2.877205e+05  3.000000e+00   \n",
       "75%    5.293306e+08  7.511600e+04  1.005522e+06  9.000000e+00   \n",
       "max    9.999905e+08  9.889500e+04  2.427252e+11  5.450000e+06   \n",
       "\n",
       "       fiscal_year_duration_in_months          year  \n",
       "count                       1495948.0  1.495948e+06  \n",
       "mean                             12.0  2.014475e+03  \n",
       "std                               0.0  1.246598e+00  \n",
       "min                              12.0  2.013000e+03  \n",
       "25%                              12.0  2.013000e+03  \n",
       "50%                              12.0  2.014000e+03  \n",
       "75%                              12.0  2.015000e+03  \n",
       "max                              12.0  2.018000e+03  "
      ]
     },
     "execution_count": 39,
     "metadata": {},
     "output_type": "execute_result"
    }
   ],
   "source": [
    "revenue_train.describe()"
   ]
  },
  {
   "cell_type": "code",
   "execution_count": 70,
   "metadata": {},
   "outputs": [
    {
     "data": {
      "text/plain": [
       "0          104334380.0\n",
       "1           28535069.0\n",
       "2           10481715.0\n",
       "3           66097924.0\n",
       "4           15271453.0\n",
       "              ...     \n",
       "1495943       643074.0\n",
       "1495944     72038000.0\n",
       "1495945      5224000.0\n",
       "1495946     66726000.0\n",
       "1495947     73261000.0\n",
       "Name: revenue, Length: 1495948, dtype: float64"
      ]
     },
     "execution_count": 70,
     "metadata": {},
     "output_type": "execute_result"
    }
   ],
   "source": [
    "revenue_train['revenue']"
   ]
  },
  {
   "cell_type": "code",
   "execution_count": 56,
   "metadata": {},
   "outputs": [
    {
     "data": {
      "text/plain": [
       "<matplotlib.axes._subplots.AxesSubplot at 0x2550f3fae08>"
      ]
     },
     "execution_count": 56,
     "metadata": {},
     "output_type": "execute_result"
    },
    {
     "data": {
      "image/png": "[encoded data removed]",
      "text/plain": [
       "<Figure size 432x288 with 1 Axes>"
      ]
     },
     "metadata": {
      "needs_background": "light"
     },
     "output_type": "display_data"
    }
   ],
   "source": [
    "revenue_train['revenue'][revenue_train['revenue'] > 0].hist()"
   ]
  },
  {
   "cell_type": "code",
   "execution_count": 83,
   "metadata": {},
   "outputs": [
    {
     "name": "stdout",
     "output_type": "stream",
     "text": [
      "number of zeros: 50047\n",
      "number of values<1: 51050\n"
     ]
    }
   ],
   "source": [
    "# number of zeros in revenues\n",
    "print(\"number of zeros:\", revenue_train[revenue_train['revenue'] == 0].shape[0])\n",
    "print(\"number of values<1:\", revenue_train[revenue_train['revenue'] <= 1].shape[0])"
   ]
  },
  {
   "cell_type": "code",
   "execution_count": 79,
   "metadata": {},
   "outputs": [
    {
     "data": {
      "text/plain": [
       "0.03407337688208414"
      ]
     },
     "execution_count": 79,
     "metadata": {},
     "output_type": "execute_result"
    }
   ],
   "source": [
    "# proportion of zeros in revenues\n",
    "revenue_train[revenue_train['revenue'] <= 0].shape[0] / revenue_train.shape[0]"
   ]
  },
  {
   "cell_type": "code",
   "execution_count": 78,
   "metadata": {},
   "outputs": [
    {
     "data": {
      "text/plain": [
       "<matplotlib.axes._subplots.AxesSubplot at 0x255156dd848>"
      ]
     },
     "execution_count": 78,
     "metadata": {},
     "output_type": "execute_result"
    },
    {
     "data": {
      "image/png": "[encoded data removed]",
      "text/plain": [
       "<Figure size 648x432 with 1 Axes>"
      ]
     },
     "metadata": {
      "needs_background": "light"
     },
     "output_type": "display_data"
    }
   ],
   "source": [
    "np.log(revenue_train['revenue'][revenue_train['revenue'] > 0]).hist(bins=50, figsize=(9,6))"
   ]
  },
  {
   "cell_type": "markdown",
   "metadata": {},
   "source": [
    "# 4. Prepare the data"
   ]
  },
  {
   "cell_type": "code",
   "execution_count": 99,
   "metadata": {},
   "outputs": [],
   "source": [
    "revenue_train_dropna = revenue_train.dropna(subset=['headcount'])"
   ]
  },
  {
   "cell_type": "code",
   "execution_count": 123,
   "metadata": {},
   "outputs": [],
   "source": [
    "X_train = np.array(revenue_train_dropna['headcount'])\n",
    "X_train = np.reshape(X_train, (-1, 1))\n",
    "y_train = np.array(revenue_train_dropna['revenue'])\n",
    "y_train = np.reshape(y_train, (-1, 1))"
   ]
  },
  {
   "cell_type": "markdown",
   "metadata": {},
   "source": [
    "# 5. Explore models"
   ]
  },
  {
   "cell_type": "markdown",
   "metadata": {},
   "source": [
    "### Linear regression"
   ]
  },
  {
   "cell_type": "code",
   "execution_count": 126,
   "metadata": {},
   "outputs": [
    {
     "data": {
      "text/plain": [
       "LinearRegression(copy_X=True, fit_intercept=True, n_jobs=None, normalize=False)"
      ]
     },
     "execution_count": 126,
     "metadata": {},
     "output_type": "execute_result"
    }
   ],
   "source": [
    "# fit the model\n",
    "lin_reg = LinearRegression()\n",
    "lin_reg.fit(X_train, y_train)"
   ]
  },
  {
   "cell_type": "code",
   "execution_count": 129,
   "metadata": {},
   "outputs": [],
   "source": [
    "# predictions on train set\n",
    "lin_reg_pred_train = lin_reg.predict(X_train)\n",
    "lin_reg_mse = mean_squared_error(y_true=y_train, y_pred=lin_reg_pred_train)\n",
    "lin_reg_rmse = np.sqrt(lin_reg_mse)"
   ]
  },
  {
   "cell_type": "code",
   "execution_count": 147,
   "metadata": {},
   "outputs": [
    {
     "data": {
      "text/plain": [
       "242019034.48220217"
      ]
     },
     "execution_count": 147,
     "metadata": {},
     "output_type": "execute_result"
    }
   ],
   "source": [
    "lin_reg_rmse"
   ]
  },
  {
   "cell_type": "code",
   "execution_count": 137,
   "metadata": {},
   "outputs": [],
   "source": [
    "# cross validation\n",
    "lin_reg_scores = cross_val_score(lin_reg, X=X_train, y=y_train, cv=10,\n",
    "                         scoring=\"neg_mean_squared_error\")\n",
    "lin_reg_rmse_scores = np.sqrt(-lin_reg_scores)"
   ]
  },
  {
   "cell_type": "code",
   "execution_count": 138,
   "metadata": {},
   "outputs": [
    {
     "data": {
      "text/plain": [
       "186426782.65599066"
      ]
     },
     "execution_count": 138,
     "metadata": {},
     "output_type": "execute_result"
    }
   ],
   "source": [
    "lin_reg_rmse_scores.mean()"
   ]
  },
  {
   "cell_type": "code",
   "execution_count": 143,
   "metadata": {},
   "outputs": [],
   "source": [
    "steps = [('lin_reg', LinearRegression())]\n",
    "pipeline = Pipeline(steps)"
   ]
  },
  {
   "cell_type": "code",
   "execution_count": 144,
   "metadata": {},
   "outputs": [
    {
     "data": {
      "text/plain": [
       "Pipeline(memory=None,\n",
       "         steps=[('lin_reg',\n",
       "                 LinearRegression(copy_X=True, fit_intercept=True, n_jobs=None,\n",
       "                                  normalize=False))],\n",
       "         verbose=False)"
      ]
     },
     "execution_count": 144,
     "metadata": {},
     "output_type": "execute_result"
    }
   ],
   "source": [
    "pipeline.fit(X=X_train, y=y_train)"
   ]
  },
  {
   "cell_type": "code",
   "execution_count": 155,
   "metadata": {},
   "outputs": [],
   "source": [
    "y_pred_train = pipeline.predict(X_train)"
   ]
  },
  {
   "cell_type": "code",
   "execution_count": 148,
   "metadata": {},
   "outputs": [
    {
     "data": {
      "text/plain": [
       "0.0007417117207769719"
      ]
     },
     "execution_count": 148,
     "metadata": {},
     "output_type": "execute_result"
    }
   ],
   "source": [
    "# R2 de la prediction\n",
    "pipeline.score(X_train, y_train)"
   ]
  },
  {
   "cell_type": "markdown",
   "metadata": {},
   "source": [
    "### Define the score"
   ]
  },
  {
   "cell_type": "code",
   "execution_count": 150,
   "metadata": {},
   "outputs": [],
   "source": [
    "def loss(y_true, y_pred):\n",
    "    \n",
    "    if isinstance(y_true, pd.Series):\n",
    "        y_true = y_true.values\n",
    "\n",
    "    true = np.maximum(5., np.log10(np.maximum(1., y_true)))\n",
    "    pred = np.maximum(5., np.log10(np.maximum(1., y_pred)))\n",
    "    \n",
    "    loss = np.mean(np.abs(true - pred))\n",
    "    \n",
    "    return loss\n",
    "    \n",
    "fan_loss = make_scorer(loss, greater_is_better=False)"
   ]
  },
  {
   "cell_type": "code",
   "execution_count": 159,
   "metadata": {},
   "outputs": [
    {
     "data": {
      "text/plain": [
       "1.161506150597136"
      ]
     },
     "execution_count": 159,
     "metadata": {},
     "output_type": "execute_result"
    }
   ],
   "source": [
    "loss(y_true=y_train, y_pred=y_pred_train)"
   ]
  },
  {
   "cell_type": "markdown",
   "metadata": {},
   "source": [
    "# 6. Fine-tune the models"
   ]
  },
  {
   "cell_type": "markdown",
   "metadata": {},
   "source": [
    "# 7. Results"
   ]
  }
 ],
 "metadata": {
  "kernelspec": {
   "display_name": "Python 3",
   "language": "python",
   "name": "python3"
  },
  "language_info": {
   "codemirror_mode": {
    "name": "ipython",
    "version": 3
   },
   "file_extension": ".py",
   "mimetype": "text/x-python",
   "name": "python",
   "nbconvert_exporter": "python",
   "pygments_lexer": "ipython3",
   "version": "3.7.4"
  }
 },
 "nbformat": 4,
 "nbformat_minor": 2
}
